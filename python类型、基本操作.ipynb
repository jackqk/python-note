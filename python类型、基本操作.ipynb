{
  "nbformat": 4,
  "nbformat_minor": 0,
  "metadata": {
    "colab": {
      "name": "python类型、基本操作.ipynb",
      "provenance": [],
      "collapsed_sections": [
        "HdfviVfDKhG1"
      ],
      "include_colab_link": true
    },
    "kernelspec": {
      "name": "python3",
      "display_name": "Python 3"
    }
  },
  "cells": [
    {
      "cell_type": "markdown",
      "metadata": {
        "id": "view-in-github",
        "colab_type": "text"
      },
      "source": [
        "<a href=\"https://colab.research.google.com/github/jackqk/python-note/blob/master/python%E7%B1%BB%E5%9E%8B%E3%80%81%E5%9F%BA%E6%9C%AC%E6%93%8D%E4%BD%9C.ipynb\" target=\"_parent\"><img src=\"https://colab.research.google.com/assets/colab-badge.svg\" alt=\"Open In Colab\"/></a>"
      ]
    },
    {
      "cell_type": "markdown",
      "metadata": {
        "id": "yDFQfxXaAHPJ",
        "colab_type": "text"
      },
      "source": [
        "这章主要讲python中的type"
      ]
    },
    {
      "cell_type": "markdown",
      "metadata": {
        "id": "7uJEi3KiHTiA",
        "colab_type": "text"
      },
      "source": [
        "## 一、基本类型"
      ]
    },
    {
      "cell_type": "code",
      "metadata": {
        "id": "KKSS6Okp-Vc_",
        "colab_type": "code",
        "outputId": "ee220f45-b17c-4f6e-fe3b-da77ae3e2ec1",
        "colab": {
          "base_uri": "https://localhost:8080/",
          "height": 34
        }
      },
      "source": [
        "type('This is a string')"
      ],
      "execution_count": 0,
      "outputs": [
        {
          "output_type": "execute_result",
          "data": {
            "text/plain": [
              "str"
            ]
          },
          "metadata": {
            "tags": []
          },
          "execution_count": 8
        }
      ]
    },
    {
      "cell_type": "code",
      "metadata": {
        "id": "NEDSSgKuA3iZ",
        "colab_type": "code",
        "outputId": "34afe0b4-3526-4517-eec1-7410351636ef",
        "colab": {
          "base_uri": "https://localhost:8080/",
          "height": 34
        }
      },
      "source": [
        "type(None)"
      ],
      "execution_count": 0,
      "outputs": [
        {
          "output_type": "execute_result",
          "data": {
            "text/plain": [
              "NoneType"
            ]
          },
          "metadata": {
            "tags": []
          },
          "execution_count": 9
        }
      ]
    },
    {
      "cell_type": "code",
      "metadata": {
        "id": "K7hq5S9QAEVi",
        "colab_type": "code",
        "outputId": "4991fc32-46ab-47f7-9786-21e11ccd55af",
        "colab": {
          "base_uri": "https://localhost:8080/",
          "height": 34
        }
      },
      "source": [
        "type(1)"
      ],
      "execution_count": 0,
      "outputs": [
        {
          "output_type": "execute_result",
          "data": {
            "text/plain": [
              "int"
            ]
          },
          "metadata": {
            "tags": []
          },
          "execution_count": 11
        }
      ]
    },
    {
      "cell_type": "code",
      "metadata": {
        "id": "cg3Uq8-XAFbx",
        "colab_type": "code",
        "outputId": "e2a409c1-6def-4f5c-d1b4-4a84c5b0e78b",
        "colab": {
          "base_uri": "https://localhost:8080/",
          "height": 34
        }
      },
      "source": [
        "type(1.0)"
      ],
      "execution_count": 0,
      "outputs": [
        {
          "output_type": "execute_result",
          "data": {
            "text/plain": [
              "float"
            ]
          },
          "metadata": {
            "tags": []
          },
          "execution_count": 12
        }
      ]
    },
    {
      "cell_type": "code",
      "metadata": {
        "id": "5-ZENt9iHh1F",
        "colab_type": "code",
        "outputId": "7d9ca6f5-d23d-429f-a63f-27bfe8f72879",
        "colab": {
          "base_uri": "https://localhost:8080/",
          "height": 34
        }
      },
      "source": [
        "def add_numbers(x, y):\n",
        "  pass\n",
        "type(add_numbers)"
      ],
      "execution_count": 0,
      "outputs": [
        {
          "output_type": "execute_result",
          "data": {
            "text/plain": [
              "function"
            ]
          },
          "metadata": {
            "tags": []
          },
          "execution_count": 13
        }
      ]
    },
    {
      "cell_type": "markdown",
      "metadata": {
        "id": "V61TZ5b6Hpom",
        "colab_type": "text"
      },
      "source": [
        "## 二、tuple"
      ]
    },
    {
      "cell_type": "markdown",
      "metadata": {
        "id": "EOz1OIJJH8GY",
        "colab_type": "text"
      },
      "source": [
        "tuple用**小括号**\n",
        "tuple不可变的序列，定义完不能增加"
      ]
    },
    {
      "cell_type": "code",
      "metadata": {
        "id": "X-mwCfjGH9tG",
        "colab_type": "code",
        "outputId": "772a4ec4-f9d0-4e53-97c7-20aba25ef045",
        "colab": {
          "base_uri": "https://localhost:8080/",
          "height": 34
        }
      },
      "source": [
        "#tuple中类型可以随意\n",
        "x = (1, 'a', 2, 'b')\n",
        "type(x)"
      ],
      "execution_count": 0,
      "outputs": [
        {
          "output_type": "execute_result",
          "data": {
            "text/plain": [
              "tuple"
            ]
          },
          "metadata": {
            "tags": []
          },
          "execution_count": 14
        }
      ]
    },
    {
      "cell_type": "markdown",
      "metadata": {
        "id": "RyoKrp23ISkU",
        "colab_type": "text"
      },
      "source": [
        "## 三、List"
      ]
    },
    {
      "cell_type": "markdown",
      "metadata": {
        "id": "m1x1mRQhIVxU",
        "colab_type": "text"
      },
      "source": [
        "tuple用**中括号**\n",
        "tuple可变的序列"
      ]
    },
    {
      "cell_type": "code",
      "metadata": {
        "id": "xOF2uvV9IY6b",
        "colab_type": "code",
        "outputId": "99dc20a8-97e8-403e-d909-7078c1779d75",
        "colab": {
          "base_uri": "https://localhost:8080/",
          "height": 34
        }
      },
      "source": [
        "x = [1, 'a', 2, 'b']\n",
        "type(x)"
      ],
      "execution_count": 0,
      "outputs": [
        {
          "output_type": "execute_result",
          "data": {
            "text/plain": [
              "list"
            ]
          },
          "metadata": {
            "tags": []
          },
          "execution_count": 16
        }
      ]
    },
    {
      "cell_type": "markdown",
      "metadata": {
        "id": "dQKn6-hDIqOW",
        "colab_type": "text"
      },
      "source": [
        "### 增加元素"
      ]
    },
    {
      "cell_type": "code",
      "metadata": {
        "id": "jN5KdFJMIbtC",
        "colab_type": "code",
        "outputId": "e26170bb-012f-41f3-defa-8fe771ec5e06",
        "colab": {
          "base_uri": "https://localhost:8080/",
          "height": 34
        }
      },
      "source": [
        "x.append(3.3)\n",
        "print(x)"
      ],
      "execution_count": 0,
      "outputs": [
        {
          "output_type": "stream",
          "text": [
            "[1, 'a', 2, 'b', 3.3]\n"
          ],
          "name": "stdout"
        }
      ]
    },
    {
      "cell_type": "markdown",
      "metadata": {
        "id": "G3EP28N4IsUZ",
        "colab_type": "text"
      },
      "source": [
        "### 遍历元素"
      ]
    },
    {
      "cell_type": "code",
      "metadata": {
        "id": "rjvh_tAcIcMA",
        "colab_type": "code",
        "outputId": "32921d31-4895-4314-ae0f-c25e1fee222f",
        "colab": {
          "base_uri": "https://localhost:8080/",
          "height": 101
        }
      },
      "source": [
        "for item in x:\n",
        "    print(item)"
      ],
      "execution_count": 0,
      "outputs": [
        {
          "output_type": "stream",
          "text": [
            "1\n",
            "a\n",
            "2\n",
            "b\n",
            "3.3\n"
          ],
          "name": "stdout"
        }
      ]
    },
    {
      "cell_type": "code",
      "metadata": {
        "id": "QTqL2iX2IzAw",
        "colab_type": "code",
        "outputId": "ea263a56-5c89-4f65-d722-4a265bbf1f39",
        "colab": {
          "base_uri": "https://localhost:8080/",
          "height": 101
        }
      },
      "source": [
        "i=0\n",
        "while( i != len(x) ):\n",
        "    print(x[i])\n",
        "    i = i + 1"
      ],
      "execution_count": 0,
      "outputs": [
        {
          "output_type": "stream",
          "text": [
            "1\n",
            "a\n",
            "2\n",
            "b\n",
            "3.3\n"
          ],
          "name": "stdout"
        }
      ]
    },
    {
      "cell_type": "markdown",
      "metadata": {
        "id": "Jbck7TofI2Wc",
        "colab_type": "text"
      },
      "source": [
        "### 其他操作"
      ]
    },
    {
      "cell_type": "code",
      "metadata": {
        "id": "HoqZnG5gIz7w",
        "colab_type": "code",
        "outputId": "4d5f1a48-d189-49fd-d50b-c2d53d82b550",
        "colab": {
          "base_uri": "https://localhost:8080/",
          "height": 34
        }
      },
      "source": [
        "[1, 2] + [3, 4, 5]"
      ],
      "execution_count": 0,
      "outputs": [
        {
          "output_type": "execute_result",
          "data": {
            "text/plain": [
              "[1, 2, 3, 4, 5]"
            ]
          },
          "metadata": {
            "tags": []
          },
          "execution_count": 24
        }
      ]
    },
    {
      "cell_type": "code",
      "metadata": {
        "id": "iJbnmy_9I59I",
        "colab_type": "code",
        "outputId": "255199d5-14de-4ebc-ce53-0025514a9bab",
        "colab": {
          "base_uri": "https://localhost:8080/",
          "height": 34
        }
      },
      "source": [
        "[ 1 ] * 3"
      ],
      "execution_count": 0,
      "outputs": [
        {
          "output_type": "execute_result",
          "data": {
            "text/plain": [
              "[1, 1, 1]"
            ]
          },
          "metadata": {
            "tags": []
          },
          "execution_count": 25
        }
      ]
    },
    {
      "cell_type": "markdown",
      "metadata": {
        "id": "HdfviVfDKhG1",
        "colab_type": "text"
      },
      "source": [
        "## 四、dictionary\n",
        "dictionary用**大括号** "
      ]
    },
    {
      "cell_type": "code",
      "metadata": {
        "id": "kqeQ8EglM-lJ",
        "colab_type": "code",
        "outputId": "555c926e-f06a-4f07-c619-58be568c7d94",
        "colab": {
          "base_uri": "https://localhost:8080/",
          "height": 34
        }
      },
      "source": [
        "x = {'Christopher Brooks': 'brooksch@umich.edu', 'Bill Gates': 'billg@microsoft.com'}\n",
        "x['Christopher Brooks'] # Retrieve a value by using the indexing operator"
      ],
      "execution_count": 0,
      "outputs": [
        {
          "output_type": "execute_result",
          "data": {
            "text/plain": [
              "'brooksch@umich.edu'"
            ]
          },
          "metadata": {
            "tags": []
          },
          "execution_count": 49
        }
      ]
    },
    {
      "cell_type": "markdown",
      "metadata": {
        "id": "7vvSiNrdNQzM",
        "colab_type": "text"
      },
      "source": [
        "### 增加"
      ]
    },
    {
      "cell_type": "code",
      "metadata": {
        "id": "4-ky2F5XNSu6",
        "colab_type": "code",
        "colab": {}
      },
      "source": [
        "x['Kevyn Collins-Thompson'] = None\n",
        "x['Kevyn Collins-Thompson']"
      ],
      "execution_count": 0,
      "outputs": []
    },
    {
      "cell_type": "markdown",
      "metadata": {
        "id": "Z4yKkbK3NXOu",
        "colab_type": "text"
      },
      "source": [
        "### 遍历"
      ]
    },
    {
      "cell_type": "code",
      "metadata": {
        "id": "-qm_-xxvNWiL",
        "colab_type": "code",
        "outputId": "2b130636-bbba-4c10-932c-bbf6fd3a7b8d",
        "colab": {
          "base_uri": "https://localhost:8080/",
          "height": 67
        }
      },
      "source": [
        "#通过key值遍历\n",
        "for name in x:\n",
        "    print(x[name])"
      ],
      "execution_count": 0,
      "outputs": [
        {
          "output_type": "stream",
          "text": [
            "brooksch@umich.edu\n",
            "billg@microsoft.com\n",
            "None\n"
          ],
          "name": "stdout"
        }
      ]
    },
    {
      "cell_type": "code",
      "metadata": {
        "id": "St34Q0TaNbSY",
        "colab_type": "code",
        "outputId": "58b00fcb-859e-4791-b665-eb37c292ca15",
        "colab": {
          "base_uri": "https://localhost:8080/",
          "height": 67
        }
      },
      "source": [
        "#通过value遍历\n",
        "for email in x.values():\n",
        "    print(email)"
      ],
      "execution_count": 0,
      "outputs": [
        {
          "output_type": "stream",
          "text": [
            "brooksch@umich.edu\n",
            "billg@microsoft.com\n",
            "None\n"
          ],
          "name": "stdout"
        }
      ]
    },
    {
      "cell_type": "code",
      "metadata": {
        "id": "rJG0SyhHNmJt",
        "colab_type": "code",
        "outputId": "c5da287b-637e-41af-e072-6fb62cb2acff",
        "colab": {
          "base_uri": "https://localhost:8080/",
          "height": 118
        }
      },
      "source": [
        "#key value同时遍历\n",
        "for name, email in x.items():\n",
        "    print(name)\n",
        "    print(email)"
      ],
      "execution_count": 0,
      "outputs": [
        {
          "output_type": "stream",
          "text": [
            "Christopher Brooks\n",
            "brooksch@umich.edu\n",
            "Bill Gates\n",
            "billg@microsoft.com\n",
            "Kevyn Collins-Thompson\n",
            "None\n"
          ],
          "name": "stdout"
        }
      ]
    },
    {
      "cell_type": "markdown",
      "metadata": {
        "id": "TvjCpejeKpX9",
        "colab_type": "text"
      },
      "source": [
        "##五、字符串\n",
        "字符串其实就是list"
      ]
    },
    {
      "cell_type": "markdown",
      "metadata": {
        "id": "wEDoBqEcLkBP",
        "colab_type": "text"
      },
      "source": [
        "### 判断是否有子串"
      ]
    },
    {
      "cell_type": "code",
      "metadata": {
        "id": "zwBUSSeoLjDJ",
        "colab_type": "code",
        "outputId": "135aa9d2-506f-4cfe-9c50-27c0ec5537ec",
        "colab": {
          "base_uri": "https://localhost:8080/",
          "height": 34
        }
      },
      "source": [
        "foo = 'hello world'\n",
        "print('hel' in foo)"
      ],
      "execution_count": 0,
      "outputs": [
        {
          "output_type": "stream",
          "text": [
            "True\n"
          ],
          "name": "stdout"
        }
      ]
    },
    {
      "cell_type": "markdown",
      "metadata": {
        "id": "rZqLbiE7Kxgu",
        "colab_type": "text"
      },
      "source": [
        "### slicing（切片）"
      ]
    },
    {
      "cell_type": "code",
      "metadata": {
        "id": "fuwv5Ir8K0Q3",
        "colab_type": "code",
        "outputId": "fda86670-852e-41ff-e0eb-f36208cb0949",
        "colab": {
          "base_uri": "https://localhost:8080/",
          "height": 67
        }
      },
      "source": [
        "x = 'This is a string'\n",
        "print(x[0]) #first character\n",
        "print(x[0:1]) #first character, but we have explicitly set the end character\n",
        "print(x[0:2]) #first two characters"
      ],
      "execution_count": 0,
      "outputs": [
        {
          "output_type": "stream",
          "text": [
            "T\n",
            "T\n",
            "Th\n"
          ],
          "name": "stdout"
        }
      ]
    },
    {
      "cell_type": "code",
      "metadata": {
        "id": "dgpoA46aLLVh",
        "colab_type": "code",
        "outputId": "2bc8ec0d-3596-4520-e7c7-a3d1997a8bd8",
        "colab": {
          "base_uri": "https://localhost:8080/",
          "height": 34
        }
      },
      "source": [
        "#从头开始切\n",
        "x[:3]"
      ],
      "execution_count": 0,
      "outputs": [
        {
          "output_type": "execute_result",
          "data": {
            "text/plain": [
              "'Thi'"
            ]
          },
          "metadata": {
            "tags": []
          },
          "execution_count": 31
        }
      ]
    },
    {
      "cell_type": "code",
      "metadata": {
        "id": "ITkr3Iv9LO6n",
        "colab_type": "code",
        "outputId": "5b2642bf-0bbc-4a60-a1f5-044b3b763d4a",
        "colab": {
          "base_uri": "https://localhost:8080/",
          "height": 34
        }
      },
      "source": [
        "#切到末尾\n",
        "x[3:]"
      ],
      "execution_count": 0,
      "outputs": [
        {
          "output_type": "execute_result",
          "data": {
            "text/plain": [
              "'s is a string'"
            ]
          },
          "metadata": {
            "tags": []
          },
          "execution_count": 32
        }
      ]
    },
    {
      "cell_type": "code",
      "metadata": {
        "id": "dnbzhkTIK0zh",
        "colab_type": "code",
        "outputId": "d84e6e2a-d441-4de0-85be-5640805cb1c5",
        "colab": {
          "base_uri": "https://localhost:8080/",
          "height": 34
        }
      },
      "source": [
        "#末尾切\n",
        "x[-1],x[-4:-2]"
      ],
      "execution_count": 0,
      "outputs": [
        {
          "output_type": "execute_result",
          "data": {
            "text/plain": [
              "('g', 'ri')"
            ]
          },
          "metadata": {
            "tags": []
          },
          "execution_count": 33
        }
      ]
    },
    {
      "cell_type": "markdown",
      "metadata": {
        "id": "Qf4r4D72Laez",
        "colab_type": "text"
      },
      "source": [
        "### 字符连接"
      ]
    },
    {
      "cell_type": "code",
      "metadata": {
        "id": "o-nrHQiGLCOA",
        "colab_type": "code",
        "outputId": "95da7dbf-d7bf-482a-c565-c0e66868c335",
        "colab": {
          "base_uri": "https://localhost:8080/",
          "height": 50
        }
      },
      "source": [
        "firstname = 'Christopher'\n",
        "lastname = 'Brooks'\n",
        "\n",
        "print(firstname + ' ' + lastname)\n",
        "print(firstname * 3)"
      ],
      "execution_count": 0,
      "outputs": [
        {
          "output_type": "stream",
          "text": [
            "Christopher Brooks\n",
            "ChristopherChristopherChristopher\n"
          ],
          "name": "stdout"
        }
      ]
    },
    {
      "cell_type": "code",
      "metadata": {
        "id": "05vm8ThFMIIQ",
        "colab_type": "code",
        "outputId": "2fce31ca-7dd6-4dc5-f8b1-f0ea844341c3",
        "colab": {
          "base_uri": "https://localhost:8080/",
          "height": 163
        }
      },
      "source": [
        "#错误示范\n",
        "'Chris' + 2"
      ],
      "execution_count": 0,
      "outputs": [
        {
          "output_type": "error",
          "ename": "TypeError",
          "evalue": "ignored",
          "traceback": [
            "\u001b[0;31m---------------------------------------------------------------------------\u001b[0m",
            "\u001b[0;31mTypeError\u001b[0m                                 Traceback (most recent call last)",
            "\u001b[0;32m<ipython-input-47-9d01956b24db>\u001b[0m in \u001b[0;36m<module>\u001b[0;34m()\u001b[0m\n\u001b[0;32m----> 1\u001b[0;31m \u001b[0;34m'Chris'\u001b[0m \u001b[0;34m+\u001b[0m \u001b[0;36m2\u001b[0m\u001b[0;34m\u001b[0m\u001b[0;34m\u001b[0m\u001b[0m\n\u001b[0m",
            "\u001b[0;31mTypeError\u001b[0m: must be str, not int"
          ]
        }
      ]
    },
    {
      "cell_type": "code",
      "metadata": {
        "id": "9U22vc_QMPug",
        "colab_type": "code",
        "outputId": "47707d22-7df4-4894-b18f-06847a089f37",
        "colab": {
          "base_uri": "https://localhost:8080/",
          "height": 34
        }
      },
      "source": [
        "'Chris' + '2'"
      ],
      "execution_count": 0,
      "outputs": [
        {
          "output_type": "execute_result",
          "data": {
            "text/plain": [
              "'Chris2'"
            ]
          },
          "metadata": {
            "tags": []
          },
          "execution_count": 48
        }
      ]
    },
    {
      "cell_type": "markdown",
      "metadata": {
        "id": "-_76J_pMMDSI",
        "colab_type": "text"
      },
      "source": [
        "### 分割"
      ]
    },
    {
      "cell_type": "code",
      "metadata": {
        "id": "g1moTtk_LeBA",
        "colab_type": "code",
        "outputId": "1109b26e-240f-4d9f-ca24-053dedf8022a",
        "colab": {
          "base_uri": "https://localhost:8080/",
          "height": 50
        }
      },
      "source": [
        "firstname = 'Christopher Arthur Hansen Brooks'.split(' ')[0] # [0] selects the first element of the list\n",
        "lastname = 'Christopher Arthur Hansen Brooks'.split(' ')[-1] # [-1] selects the last element of the list\n",
        "print(firstname)\n",
        "print(lastname)"
      ],
      "execution_count": 0,
      "outputs": [
        {
          "output_type": "stream",
          "text": [
            "Christopher\n",
            "Brooks\n"
          ],
          "name": "stdout"
        }
      ]
    },
    {
      "cell_type": "markdown",
      "metadata": {
        "id": "Sti7x0r9Q-NV",
        "colab_type": "text"
      },
      "source": [
        "### 格式化字符串"
      ]
    },
    {
      "cell_type": "markdown",
      "metadata": {
        "id": "Z5YHvKS3Sf4I",
        "colab_type": "text"
      },
      "source": [
        "类似于c语言中的printf，字符格式化对data cleaning十分中药"
      ]
    },
    {
      "cell_type": "code",
      "metadata": {
        "id": "B7XYGmx9RAMs",
        "colab_type": "code",
        "outputId": "d4b4a428-89d5-488c-f470-007d9972f3ac",
        "colab": {
          "base_uri": "https://localhost:8080/",
          "height": 34
        }
      },
      "source": [
        "sale_record = {\n",
        "    'price':3.24,\n",
        "    'num_items':4,\n",
        "    'person':'Chris'\n",
        "}\n",
        "sales_statement = '{} bought {} item(s) at a price of {} each for a total of {}'\n",
        "print(sales_statement.format(sale_record['person'],\n",
        "                             sale_record['num_items'],\n",
        "                             sale_record['price'],\n",
        "                             sale_record['num_items'] * sale_record['price']))\n"
      ],
      "execution_count": 0,
      "outputs": [
        {
          "output_type": "stream",
          "text": [
            "Chris bought 4 item(s) at a price of 3.24 each for a total of 12.96\n"
          ],
          "name": "stdout"
        }
      ]
    },
    {
      "cell_type": "markdown",
      "metadata": {
        "id": "LMYikMjZN00Y",
        "colab_type": "text"
      },
      "source": [
        "## 六、Sequence into different variables"
      ]
    },
    {
      "cell_type": "code",
      "metadata": {
        "id": "-opyr_6GN7I5",
        "colab_type": "code",
        "outputId": "2523eb5e-0417-46af-cec1-064152e5c87e",
        "colab": {
          "base_uri": "https://localhost:8080/",
          "height": 34
        }
      },
      "source": [
        "x = ('Christopher', 'Brooks', 'brooksch@umich.edu')\n",
        "fname, lname, email = x\n",
        "type(x)"
      ],
      "execution_count": 0,
      "outputs": [
        {
          "output_type": "execute_result",
          "data": {
            "text/plain": [
              "tuple"
            ]
          },
          "metadata": {
            "tags": []
          },
          "execution_count": 56
        }
      ]
    },
    {
      "cell_type": "code",
      "metadata": {
        "id": "YcVbL6blN8dE",
        "colab_type": "code",
        "outputId": "1c8eb5e6-b64d-4aab-e82e-6d016444a545",
        "colab": {
          "base_uri": "https://localhost:8080/",
          "height": 34
        }
      },
      "source": [
        "fname"
      ],
      "execution_count": 0,
      "outputs": [
        {
          "output_type": "execute_result",
          "data": {
            "text/plain": [
              "'Christopher'"
            ]
          },
          "metadata": {
            "tags": []
          },
          "execution_count": 57
        }
      ]
    },
    {
      "cell_type": "code",
      "metadata": {
        "id": "JGEAvt27OAQY",
        "colab_type": "code",
        "outputId": "d79d429f-4825-429a-a573-8c1a607786c1",
        "colab": {
          "base_uri": "https://localhost:8080/",
          "height": 34
        }
      },
      "source": [
        "lname"
      ],
      "execution_count": 0,
      "outputs": [
        {
          "output_type": "execute_result",
          "data": {
            "text/plain": [
              "'Brooks'"
            ]
          },
          "metadata": {
            "tags": []
          },
          "execution_count": 58
        }
      ]
    },
    {
      "cell_type": "code",
      "metadata": {
        "id": "2dx3qywUOA24",
        "colab_type": "code",
        "outputId": "646be8ef-437e-4671-dc34-9c11ee819a72",
        "colab": {
          "base_uri": "https://localhost:8080/",
          "height": 180
        }
      },
      "source": [
        "#数量要对\n",
        "x = ('Christopher', 'Brooks', 'brooksch@umich.edu', 'Ann Arbor')\n",
        "fname, lname, email = x"
      ],
      "execution_count": 0,
      "outputs": [
        {
          "output_type": "error",
          "ename": "ValueError",
          "evalue": "ignored",
          "traceback": [
            "\u001b[0;31m---------------------------------------------------------------------------\u001b[0m",
            "\u001b[0;31mValueError\u001b[0m                                Traceback (most recent call last)",
            "\u001b[0;32m<ipython-input-59-d2c50ec4987a>\u001b[0m in \u001b[0;36m<module>\u001b[0;34m()\u001b[0m\n\u001b[1;32m      1\u001b[0m \u001b[0mx\u001b[0m \u001b[0;34m=\u001b[0m \u001b[0;34m(\u001b[0m\u001b[0;34m'Christopher'\u001b[0m\u001b[0;34m,\u001b[0m \u001b[0;34m'Brooks'\u001b[0m\u001b[0;34m,\u001b[0m \u001b[0;34m'brooksch@umich.edu'\u001b[0m\u001b[0;34m,\u001b[0m \u001b[0;34m'Ann Arbor'\u001b[0m\u001b[0;34m)\u001b[0m\u001b[0;34m\u001b[0m\u001b[0;34m\u001b[0m\u001b[0m\n\u001b[0;32m----> 2\u001b[0;31m \u001b[0mfname\u001b[0m\u001b[0;34m,\u001b[0m \u001b[0mlname\u001b[0m\u001b[0;34m,\u001b[0m \u001b[0memail\u001b[0m \u001b[0;34m=\u001b[0m \u001b[0mx\u001b[0m\u001b[0;34m\u001b[0m\u001b[0;34m\u001b[0m\u001b[0m\n\u001b[0m",
            "\u001b[0;31mValueError\u001b[0m: too many values to unpack (expected 3)"
          ]
        }
      ]
    }
  ]
}