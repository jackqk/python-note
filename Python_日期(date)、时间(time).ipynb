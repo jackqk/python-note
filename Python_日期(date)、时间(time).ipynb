{
  "nbformat": 4,
  "nbformat_minor": 0,
  "metadata": {
    "colab": {
      "name": "Python 日期(date)、时间(time)",
      "provenance": [],
      "include_colab_link": true
    },
    "kernelspec": {
      "name": "python3",
      "display_name": "Python 3"
    }
  },
  "cells": [
    {
      "cell_type": "markdown",
      "metadata": {
        "id": "view-in-github",
        "colab_type": "text"
      },
      "source": [
        "<a href=\"https://colab.research.google.com/github/jackqk/python-note/blob/master/Python_%E6%97%A5%E6%9C%9F(date)%E3%80%81%E6%97%B6%E9%97%B4(time).ipynb\" target=\"_parent\"><img src=\"https://colab.research.google.com/assets/colab-badge.svg\" alt=\"Open In Colab\"/></a>"
      ]
    },
    {
      "cell_type": "markdown",
      "metadata": {
        "id": "WMjHHbkkfhL2",
        "colab_type": "text"
      },
      "source": [
        "## 日期和时间"
      ]
    },
    {
      "cell_type": "code",
      "metadata": {
        "id": "G8WmlKXlfmGP",
        "colab_type": "code",
        "colab": {}
      },
      "source": [
        "import datetime as dt\n",
        "import time as tm"
      ],
      "execution_count": 0,
      "outputs": []
    },
    {
      "cell_type": "markdown",
      "metadata": {
        "id": "ywUszTJHfxJm",
        "colab_type": "text"
      },
      "source": [
        "### 当前时间的时间戳(UTC-0)"
      ]
    },
    {
      "cell_type": "code",
      "metadata": {
        "id": "v7nVhrQafqgI",
        "colab_type": "code",
        "outputId": "18856026-bdfc-4427-b384-66610360ba53",
        "colab": {
          "base_uri": "https://localhost:8080/",
          "height": 34
        }
      },
      "source": [
        "tm.time()"
      ],
      "execution_count": 0,
      "outputs": [
        {
          "output_type": "execute_result",
          "data": {
            "text/plain": [
              "1571043597.0176098"
            ]
          },
          "metadata": {
            "tags": []
          },
          "execution_count": 2
        }
      ]
    },
    {
      "cell_type": "code",
      "metadata": {
        "id": "Hb51QIC8ftvR",
        "colab_type": "code",
        "outputId": "8a79c5aa-ccf2-4365-cddf-533e97937474",
        "colab": {
          "base_uri": "https://localhost:8080/",
          "height": 34
        }
      },
      "source": [
        "dtnow = dt.datetime.fromtimestamp(tm.time())\n",
        "dtnow"
      ],
      "execution_count": 0,
      "outputs": [
        {
          "output_type": "execute_result",
          "data": {
            "text/plain": [
              "datetime.datetime(2019, 10, 14, 9, 0, 46, 161883)"
            ]
          },
          "metadata": {
            "tags": []
          },
          "execution_count": 3
        }
      ]
    },
    {
      "cell_type": "markdown",
      "metadata": {
        "id": "3EhVt6TZgY2M",
        "colab_type": "text"
      },
      "source": [
        "### 时间差"
      ]
    },
    {
      "cell_type": "code",
      "metadata": {
        "id": "0MBG0lccf5vE",
        "colab_type": "code",
        "outputId": "7814e738-0281-47dc-e2d5-fbf2bbbff4f3",
        "colab": {
          "base_uri": "https://localhost:8080/",
          "height": 34
        }
      },
      "source": [
        "#定义一个时间差\n",
        "delta = dt.timedelta(days=100)\n",
        "delta"
      ],
      "execution_count": 0,
      "outputs": [
        {
          "output_type": "execute_result",
          "data": {
            "text/plain": [
              "datetime.timedelta(100)"
            ]
          },
          "metadata": {
            "tags": []
          },
          "execution_count": 5
        }
      ]
    },
    {
      "cell_type": "markdown",
      "metadata": {
        "id": "GokkTX-8gi2n",
        "colab_type": "text"
      },
      "source": [
        "### 时间差可以用来加减、比较"
      ]
    },
    {
      "cell_type": "code",
      "metadata": {
        "id": "l_VorHdIgqU7",
        "colab_type": "code",
        "colab": {}
      },
      "source": [
        "today = dt.date.today()"
      ],
      "execution_count": 0,
      "outputs": []
    },
    {
      "cell_type": "code",
      "metadata": {
        "id": "gGx1n35IgJN8",
        "colab_type": "code",
        "outputId": "327b4a7c-4ebd-4892-af81-07d072f9beed",
        "colab": {
          "base_uri": "https://localhost:8080/",
          "height": 34
        }
      },
      "source": [
        "today + delta"
      ],
      "execution_count": 0,
      "outputs": [
        {
          "output_type": "execute_result",
          "data": {
            "text/plain": [
              "datetime.date(2020, 1, 22)"
            ]
          },
          "metadata": {
            "tags": []
          },
          "execution_count": 12
        }
      ]
    },
    {
      "cell_type": "code",
      "metadata": {
        "id": "fsKDaGMggWDm",
        "colab_type": "code",
        "outputId": "f8148ff5-166d-4c39-f46e-80abaad7ad05",
        "colab": {
          "base_uri": "https://localhost:8080/",
          "height": 34
        }
      },
      "source": [
        "today - delta"
      ],
      "execution_count": 0,
      "outputs": [
        {
          "output_type": "execute_result",
          "data": {
            "text/plain": [
              "datetime.date(2019, 7, 6)"
            ]
          },
          "metadata": {
            "tags": []
          },
          "execution_count": 13
        }
      ]
    },
    {
      "cell_type": "code",
      "metadata": {
        "id": "o6xVOEwrgoVT",
        "colab_type": "code",
        "outputId": "aa8b54f7-7b38-4d8d-c971-f1ef09eebdff",
        "colab": {
          "base_uri": "https://localhost:8080/",
          "height": 34
        }
      },
      "source": [
        "today > today - delta "
      ],
      "execution_count": 0,
      "outputs": [
        {
          "output_type": "execute_result",
          "data": {
            "text/plain": [
              "True"
            ]
          },
          "metadata": {
            "tags": []
          },
          "execution_count": 14
        }
      ]
    }
  ]
}